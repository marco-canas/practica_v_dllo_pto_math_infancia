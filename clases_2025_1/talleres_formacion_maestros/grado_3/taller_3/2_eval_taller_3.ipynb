{
 "cells": [
  {
   "cell_type": "markdown",
   "id": "dc06dec7",
   "metadata": {
    "slideshow": {
     "slide_type": "slide"
    }
   },
   "source": [
    "<table align=\"left\">\n",
    "  <td>\n",
    "    <a href=\"https://colab.research.google.com/github/marco-canas/didactica_ciencia_datos/blob/main/1_curso_machine_learning/1_evaluacion_oral_tarea_quiz_parcial.ipynb\" target=\"_parent\"><img src=\"https://colab.research.google.com/assets/colab-badge.svg\" alt=\"Open In Colab\"/></a>\n",
    "  </td>\n",
    "  <td>\n",
    "    <a target=\"_blank\" href=\"https://kaggle.com/kernels/welcome?src=https://github.com/marco-canas/didactica_ciencia_datos/blob/main/1_curso_machine_learning/1_evaluacion_oral_tarea_quiz_parcial.ipynb\"><img src=\"https://kaggle.com/static/images/open-in-kaggle.svg\" /></a>\n",
    "  </td>\n",
    "</table>"
   ]
  },
  {
   "cell_type": "markdown",
   "id": "e0c5b198",
   "metadata": {
    "slideshow": {
     "slide_type": "slide"
    }
   },
   "source": [
    "### [Video de apoyo a la lectura interactiva y experimental de este cuaderno]()"
   ]
  },
  {
   "cell_type": "markdown",
   "id": "41e82203",
   "metadata": {
    "slideshow": {
     "slide_type": "slide"
    }
   },
   "source": [
    "## [Vínculo al programa del curso:  ]()"
   ]
  },
  {
   "cell_type": "markdown",
   "id": "ca46c23b",
   "metadata": {
    "slideshow": {
     "slide_type": "slide"
    }
   },
   "source": [
    "# Modelo general de clase: [aula invertida](https://www3.gobiernodecanarias.org/medusa/ecoescuela/pedagotic/aprendizaje-invertido-flipped-classroom/)\n"
   ]
  },
  {
   "cell_type": "markdown",
   "id": "7f9be90f",
   "metadata": {
    "slideshow": {
     "slide_type": "slide"
    }
   },
   "source": [
    "# Fomento de la lectura literaria asociada a Ingeniería agropecuaria y licenciatura en Matemáticas y administración de empresas\n",
    "\n",
    "[Hábitos atómicos](https://github.com/marco-canas/habitos_atomicos/blob/main/13_como_dejar_de_postergar_usando_la_regla_de_los_dos_minutos/1_13_como_dejar_de_postergar_usando_la_regla_de_los_dos_minutos.ipynb)"
   ]
  },
  {
   "cell_type": "markdown",
   "id": "96775931",
   "metadata": {
    "slideshow": {
     "slide_type": "slide"
    }
   },
   "source": [
    "# Título de la clase: Realización evaluación oral, de Tareas en cuadernos Jupyter, Quiz o Parcial de selección múltiple o de preguntas cerradas.  \n",
    "\n"
   ]
  },
  {
   "cell_type": "code",
   "execution_count": null,
   "id": "ad098f40",
   "metadata": {},
   "outputs": [
    {
     "ename": "FileNotFoundError",
     "evalue": "[Errno 2] No such file or directory: '/home/marco/Documentos/docencia/groups_list/infantil.xlsx'",
     "output_type": "error",
     "traceback": [
      "\u001b[1;31m---------------------------------------------------------------------------\u001b[0m",
      "\u001b[1;31mFileNotFoundError\u001b[0m                         Traceback (most recent call last)",
      "Cell \u001b[1;32mIn[3], line 7\u001b[0m\n\u001b[0;32m      5\u001b[0m \u001b[38;5;66;03m# Cargar la lista de estudiantes desde la URL\u001b[39;00m\n\u001b[0;32m      6\u001b[0m path \u001b[38;5;241m=\u001b[39m \u001b[38;5;124m'\u001b[39m\u001b[38;5;124m/home/marco/Documentos/docencia/groups_list/infantil.xlsx\u001b[39m\u001b[38;5;124m'\u001b[39m\n\u001b[1;32m----> 7\u001b[0m estudiantes \u001b[38;5;241m=\u001b[39m \u001b[43mpd\u001b[49m\u001b[38;5;241;43m.\u001b[39;49m\u001b[43mread_excel\u001b[49m\u001b[43m(\u001b[49m\u001b[43mpath\u001b[49m\u001b[43m)\u001b[49m\n\u001b[0;32m      8\u001b[0m estudiantes\u001b[38;5;241m.\u001b[39mhead() \n",
      "File \u001b[1;32mc:\\Users\\marco\\Documentos\\docencia\\practica_v_dllo_pto_math_infancia\\.venv\\Lib\\site-packages\\pandas\\io\\excel\\_base.py:495\u001b[0m, in \u001b[0;36mread_excel\u001b[1;34m(io, sheet_name, header, names, index_col, usecols, dtype, engine, converters, true_values, false_values, skiprows, nrows, na_values, keep_default_na, na_filter, verbose, parse_dates, date_parser, date_format, thousands, decimal, comment, skipfooter, storage_options, dtype_backend, engine_kwargs)\u001b[0m\n\u001b[0;32m    493\u001b[0m \u001b[38;5;28;01mif\u001b[39;00m \u001b[38;5;129;01mnot\u001b[39;00m \u001b[38;5;28misinstance\u001b[39m(io, ExcelFile):\n\u001b[0;32m    494\u001b[0m     should_close \u001b[38;5;241m=\u001b[39m \u001b[38;5;28;01mTrue\u001b[39;00m\n\u001b[1;32m--> 495\u001b[0m     io \u001b[38;5;241m=\u001b[39m \u001b[43mExcelFile\u001b[49m\u001b[43m(\u001b[49m\n\u001b[0;32m    496\u001b[0m \u001b[43m        \u001b[49m\u001b[43mio\u001b[49m\u001b[43m,\u001b[49m\n\u001b[0;32m    497\u001b[0m \u001b[43m        \u001b[49m\u001b[43mstorage_options\u001b[49m\u001b[38;5;241;43m=\u001b[39;49m\u001b[43mstorage_options\u001b[49m\u001b[43m,\u001b[49m\n\u001b[0;32m    498\u001b[0m \u001b[43m        \u001b[49m\u001b[43mengine\u001b[49m\u001b[38;5;241;43m=\u001b[39;49m\u001b[43mengine\u001b[49m\u001b[43m,\u001b[49m\n\u001b[0;32m    499\u001b[0m \u001b[43m        \u001b[49m\u001b[43mengine_kwargs\u001b[49m\u001b[38;5;241;43m=\u001b[39;49m\u001b[43mengine_kwargs\u001b[49m\u001b[43m,\u001b[49m\n\u001b[0;32m    500\u001b[0m \u001b[43m    \u001b[49m\u001b[43m)\u001b[49m\n\u001b[0;32m    501\u001b[0m \u001b[38;5;28;01melif\u001b[39;00m engine \u001b[38;5;129;01mand\u001b[39;00m engine \u001b[38;5;241m!=\u001b[39m io\u001b[38;5;241m.\u001b[39mengine:\n\u001b[0;32m    502\u001b[0m     \u001b[38;5;28;01mraise\u001b[39;00m \u001b[38;5;167;01mValueError\u001b[39;00m(\n\u001b[0;32m    503\u001b[0m         \u001b[38;5;124m\"\u001b[39m\u001b[38;5;124mEngine should not be specified when passing \u001b[39m\u001b[38;5;124m\"\u001b[39m\n\u001b[0;32m    504\u001b[0m         \u001b[38;5;124m\"\u001b[39m\u001b[38;5;124man ExcelFile - ExcelFile already has the engine set\u001b[39m\u001b[38;5;124m\"\u001b[39m\n\u001b[0;32m    505\u001b[0m     )\n",
      "File \u001b[1;32mc:\\Users\\marco\\Documentos\\docencia\\practica_v_dllo_pto_math_infancia\\.venv\\Lib\\site-packages\\pandas\\io\\excel\\_base.py:1550\u001b[0m, in \u001b[0;36mExcelFile.__init__\u001b[1;34m(self, path_or_buffer, engine, storage_options, engine_kwargs)\u001b[0m\n\u001b[0;32m   1548\u001b[0m     ext \u001b[38;5;241m=\u001b[39m \u001b[38;5;124m\"\u001b[39m\u001b[38;5;124mxls\u001b[39m\u001b[38;5;124m\"\u001b[39m\n\u001b[0;32m   1549\u001b[0m \u001b[38;5;28;01melse\u001b[39;00m:\n\u001b[1;32m-> 1550\u001b[0m     ext \u001b[38;5;241m=\u001b[39m \u001b[43minspect_excel_format\u001b[49m\u001b[43m(\u001b[49m\n\u001b[0;32m   1551\u001b[0m \u001b[43m        \u001b[49m\u001b[43mcontent_or_path\u001b[49m\u001b[38;5;241;43m=\u001b[39;49m\u001b[43mpath_or_buffer\u001b[49m\u001b[43m,\u001b[49m\u001b[43m \u001b[49m\u001b[43mstorage_options\u001b[49m\u001b[38;5;241;43m=\u001b[39;49m\u001b[43mstorage_options\u001b[49m\n\u001b[0;32m   1552\u001b[0m \u001b[43m    \u001b[49m\u001b[43m)\u001b[49m\n\u001b[0;32m   1553\u001b[0m     \u001b[38;5;28;01mif\u001b[39;00m ext \u001b[38;5;129;01mis\u001b[39;00m \u001b[38;5;28;01mNone\u001b[39;00m:\n\u001b[0;32m   1554\u001b[0m         \u001b[38;5;28;01mraise\u001b[39;00m \u001b[38;5;167;01mValueError\u001b[39;00m(\n\u001b[0;32m   1555\u001b[0m             \u001b[38;5;124m\"\u001b[39m\u001b[38;5;124mExcel file format cannot be determined, you must specify \u001b[39m\u001b[38;5;124m\"\u001b[39m\n\u001b[0;32m   1556\u001b[0m             \u001b[38;5;124m\"\u001b[39m\u001b[38;5;124man engine manually.\u001b[39m\u001b[38;5;124m\"\u001b[39m\n\u001b[0;32m   1557\u001b[0m         )\n",
      "File \u001b[1;32mc:\\Users\\marco\\Documentos\\docencia\\practica_v_dllo_pto_math_infancia\\.venv\\Lib\\site-packages\\pandas\\io\\excel\\_base.py:1402\u001b[0m, in \u001b[0;36minspect_excel_format\u001b[1;34m(content_or_path, storage_options)\u001b[0m\n\u001b[0;32m   1399\u001b[0m \u001b[38;5;28;01mif\u001b[39;00m \u001b[38;5;28misinstance\u001b[39m(content_or_path, \u001b[38;5;28mbytes\u001b[39m):\n\u001b[0;32m   1400\u001b[0m     content_or_path \u001b[38;5;241m=\u001b[39m BytesIO(content_or_path)\n\u001b[1;32m-> 1402\u001b[0m \u001b[38;5;28;01mwith\u001b[39;00m \u001b[43mget_handle\u001b[49m\u001b[43m(\u001b[49m\n\u001b[0;32m   1403\u001b[0m \u001b[43m    \u001b[49m\u001b[43mcontent_or_path\u001b[49m\u001b[43m,\u001b[49m\u001b[43m \u001b[49m\u001b[38;5;124;43m\"\u001b[39;49m\u001b[38;5;124;43mrb\u001b[39;49m\u001b[38;5;124;43m\"\u001b[39;49m\u001b[43m,\u001b[49m\u001b[43m \u001b[49m\u001b[43mstorage_options\u001b[49m\u001b[38;5;241;43m=\u001b[39;49m\u001b[43mstorage_options\u001b[49m\u001b[43m,\u001b[49m\u001b[43m \u001b[49m\u001b[43mis_text\u001b[49m\u001b[38;5;241;43m=\u001b[39;49m\u001b[38;5;28;43;01mFalse\u001b[39;49;00m\n\u001b[0;32m   1404\u001b[0m \u001b[43m\u001b[49m\u001b[43m)\u001b[49m \u001b[38;5;28;01mas\u001b[39;00m handle:\n\u001b[0;32m   1405\u001b[0m     stream \u001b[38;5;241m=\u001b[39m handle\u001b[38;5;241m.\u001b[39mhandle\n\u001b[0;32m   1406\u001b[0m     stream\u001b[38;5;241m.\u001b[39mseek(\u001b[38;5;241m0\u001b[39m)\n",
      "File \u001b[1;32mc:\\Users\\marco\\Documentos\\docencia\\practica_v_dllo_pto_math_infancia\\.venv\\Lib\\site-packages\\pandas\\io\\common.py:882\u001b[0m, in \u001b[0;36mget_handle\u001b[1;34m(path_or_buf, mode, encoding, compression, memory_map, is_text, errors, storage_options)\u001b[0m\n\u001b[0;32m    873\u001b[0m         handle \u001b[38;5;241m=\u001b[39m \u001b[38;5;28mopen\u001b[39m(\n\u001b[0;32m    874\u001b[0m             handle,\n\u001b[0;32m    875\u001b[0m             ioargs\u001b[38;5;241m.\u001b[39mmode,\n\u001b[1;32m   (...)\u001b[0m\n\u001b[0;32m    878\u001b[0m             newline\u001b[38;5;241m=\u001b[39m\u001b[38;5;124m\"\u001b[39m\u001b[38;5;124m\"\u001b[39m,\n\u001b[0;32m    879\u001b[0m         )\n\u001b[0;32m    880\u001b[0m     \u001b[38;5;28;01melse\u001b[39;00m:\n\u001b[0;32m    881\u001b[0m         \u001b[38;5;66;03m# Binary mode\u001b[39;00m\n\u001b[1;32m--> 882\u001b[0m         handle \u001b[38;5;241m=\u001b[39m \u001b[38;5;28;43mopen\u001b[39;49m\u001b[43m(\u001b[49m\u001b[43mhandle\u001b[49m\u001b[43m,\u001b[49m\u001b[43m \u001b[49m\u001b[43mioargs\u001b[49m\u001b[38;5;241;43m.\u001b[39;49m\u001b[43mmode\u001b[49m\u001b[43m)\u001b[49m\n\u001b[0;32m    883\u001b[0m     handles\u001b[38;5;241m.\u001b[39mappend(handle)\n\u001b[0;32m    885\u001b[0m \u001b[38;5;66;03m# Convert BytesIO or file objects passed with an encoding\u001b[39;00m\n",
      "\u001b[1;31mFileNotFoundError\u001b[0m: [Errno 2] No such file or directory: '/home/marco/Documentos/docencia/groups_list/infantil.xlsx'"
     ]
    }
   ],
   "source": [
    "# algoritmo para llamar a evaluación oral individual\n",
    "import pandas as pd\n",
    "import numpy as np\n",
    "\n",
    "# Cargar la lista de estudiantes desde la URL\n",
    "path = 'C:/marco/Documentos/docencia/groups_list/infantil.xlsx'\n",
    "estudiantes = pd.read_excel(path)\n",
    "estudiantes.head() \n"
   ]
  },
  {
   "cell_type": "code",
   "execution_count": null,
   "id": "fcf63bf2",
   "metadata": {},
   "outputs": [],
   "source": [
    "\n",
    "# Convertir la columna 'Nombre' a una lista de Python\n",
    "lista_estudiantes = estudiantes['Nombre'].tolist()\n",
    "\n",
    "# Función para llamar a un estudiante aleatoriamente y registrar su nota de seguimiento\n",
    "def eval_oral():\n",
    "    if lista_estudiantes:\n",
    "        estudiante_aleatorio = np.random.choice(lista_estudiantes)\n",
    "        print(f\"Llamando a {estudiante_aleatorio}...\")\n",
    "        asistencia = input(f\"¿Se expresó bien y correco {estudiante_aleatorio}? (s/n): \").strip().lower()\n",
    "        \n",
    "        if asistencia == 's':\n",
    "            # Obtener el índice del estudiante en el DataFrame\n",
    "            indice = estudiantes[estudiantes['Nombre'] == estudiante_aleatorio].index[0]\n",
    "            # Incrementar su valor en la columna 'Parcial'\n",
    "            estudiantes.at[indice, 'Parcial'] += 0.1\n",
    "            print(f\"Actualizado: {estudiante_aleatorio} ahora tiene {estudiantes.at[indice, 'Parcial']} en la columna 'Parcial'.\")\n",
    "        \n",
    "        lista_estudiantes.remove(estudiante_aleatorio)\n",
    "    else:\n",
    "        print(\"Se han llamado a todos los estudiantes del grupo completo.\")\n",
    "\n",
    "# Guardar los cambios en el archivo CSV\n",
    "def guardar_cambios():\n",
    "    estudiantes.to_csv(path, index=False)\n",
    "    print(\"Cambios guardados en el archivo CSV.\")\n",
    "\n",
    "# Ejemplo de uso\n",
    "#while lista_estudiantes:\n",
    "#    eval_oral()\n",
    "#    guardar_cambios()\n",
    "\n",
    "\n"
   ]
  },
  {
   "cell_type": "markdown",
   "id": "cf101603",
   "metadata": {},
   "source": [
    "# Prompt para pedir el diseño de evaluación de acuerdo a la metodología de \"Enseñanza basada en proyectos\"  \n",
    "\n",
    "Dame, por favor, una propuesta de evaluación de esta clase bajo la metodología de enseñanza: \"Aprendizaje basado en proyectos\". Pero además incluye una evaluación escrita tipo quiz y una tipo parcial. "
   ]
  },
  {
   "cell_type": "markdown",
   "id": "42797498",
   "metadata": {},
   "source": [
    "Aquí tienes un diseño de clase integrando los enfoques solicitados y herramientas tecnológicas:\n",
    "\n",
    "```python\n",
    "# Título de la clase\n",
    "\"\"\"\n",
    "# **Comparaciones Numéricas: Puente entre Aritmética y Álgebra**\n",
    "**Enfoque:** Aula Invertida + STEAMS + ABPP  \n",
    "**Herramientas:** Jupyter Notebook + Python (Numpy, SymPy, Visualizaciones interactivas)\n",
    "\"\"\"\n",
    "```\n",
    "\n",
    "### 2. Objetivos e Indicadores\n",
    "```python\n",
    "objetivos = {\n",
    "    \"Objetivo Principal\": \"Establecer comparaciones entre cantidades mediante relaciones aditivas y multiplicativas\",\n",
    "    \"Indicadores\": [\n",
    "        \"Conversión entre representaciones fraccionarias y numéricas decimales\",\n",
    "        \"Modelado de equivalencias usando sistemas monetarios históricos\",\n",
    "        \"Creación de visualizaciones interactivas que muestren relaciones parte-todo\",\n",
    "        \"Resolución de problemas con múltiples representaciones numéricas\"\n",
    "    ]\n",
    "}\n",
    "```\n",
    "\n",
    "### 3. Mapa Conceptual (Graphviz)\n",
    "```python\n",
    "from graphviz import Digraph\n",
    "\n",
    "dot = Digraph(comment='Mapa Conceptual', format='png', \n",
    "              graph_attr={'rankdir':'LR', 'bgcolor':'#f0f8ff'},\n",
    "              node_attr={'style':'filled', 'fillcolor':'lightyellow', 'shape':'box3d'},\n",
    "              edge_attr={'color':'darkgreen', 'arrowhead':'vee'})\n",
    "\n",
    "# Nodos principales\n",
    "dot.node('A', 'Relaciones Aditivas\\n(+/-)', {'shape':'ellipse', 'fillcolor':'#ffdddd'})\n",
    "dot.node('B', 'Relaciones Multiplicativas\\n(×/÷)', {'shape':'ellipse', 'fillcolor':'#ddffdd'})\n",
    "dot.node('C', 'Sistemas Monetarios\\n(Historia y Cultura)', {'shape':'component', 'fillcolor':'#ffffcc'})\n",
    "dot.node('D', 'Fracciones y Razones\\n$\\frac{a}{b} = c$', {'shape':'note', 'fillcolor':'#ccffff'})\n",
    "dot.node('E', 'Equivalencias\\n$\\\\frac{1}{4} = 25\\\\% = 0.25$', {'shape':'tab', 'fillcolor':'#ffd700'})\n",
    "\n",
    "# Conexiones\n",
    "dot.edges(['AB', 'AC', 'AD', 'BC', 'BD', 'CE', 'DE'])\n",
    "dot.render(directory='C:/Users/marco/Documentos/docencia/', filename='mapa_conceptual')\n",
    "```\n",
    "\n",
    "### 4. Elementos Históricos\n",
    "```python\n",
    "historia = r\"\"\"\n",
    "**1. Sistemas Monetarios Antiguos:**  \n",
    "- Los romanos usaban fracciones duodecimales ($\\frac{1}{12}$ = uncia)  \n",
    "- El sistema monetario español del siglo XV utilizaba maravedíes (fracciones de peso)\n",
    "\n",
    "**2. Desarrollo de las Fracciones:**  \n",
    "- Los egipcios (2000 a.C.) con fracciones unitarias $\\frac{1}{n}$  \n",
    "- Simbología moderna (Fibonacci, siglo XIII)\n",
    "\n",
    "**3. Evolución Algebraica:**  \n",
    "- Notación de Descartes (1637) para ecuaciones  \n",
    "- Sistemas posicionales decimales (siglo XVI)\n",
    "\"\"\"\n",
    "```\n",
    "\n",
    "### 5. Contenido de Clase (Jupyter Activities)\n",
    "```python\n",
    "import numpy as np\n",
    "import matplotlib.pyplot as plt\n",
    "from ipywidgets import interact, FloatSlider\n",
    "from IPython.display import display, HTML\n",
    "\n",
    "# Función para conversión monetaria\n",
    "def convertir_moneda(centavos):\n",
    "    peso = 100  # 1 peso = 100 centavos\n",
    "    return f\"${centavos/100:.2f} pesos\\nFracción: {centavos}/{peso} = {centavos/peso:.2f}\"\n",
    "\n",
    "# Widget interactivo\n",
    "@interact(centavos=FloatSlider(min=5, max=100, step=5, value=25))\n",
    "def mostrar_equivalencia(centavos):\n",
    "    clear_output(wait=True)\n",
    "    print(convertir_moneda(centavos))\n",
    "    plt.figure(figsize=(6,3))\n",
    "    plt.title(\"Representación Gráfica\")\n",
    "    plt.barh(['Centavos', 'Pesos'], [centavos, centavos/100], color=['gold', 'silver'])\n",
    "    plt.show()\n",
    "```\n",
    "\n",
    "### 6. Actividades de Aprendizaje\n",
    "```python\n",
    "# Actividad 1: Diseño de monedas con SymPy\n",
    "from sympy import symbols, Eq, solve\n",
    "import plotly.express as px\n",
    "\n",
    "def actividad_monedas():\n",
    "    valores = np.array([1, 2, 5, 10, 20, 25, 50])\n",
    "    fracciones = valores / 100\n",
    "    \n",
    "    fig = px.scatter(x=valores, y=fracciones, \n",
    "                     labels={'x':'Centavos', 'y':'Fracción de peso'},\n",
    "                     title=\"Equivalencias Monetarias\")\n",
    "    fig.update_traces(marker=dict(size=12, color='gold'))\n",
    "    fig.show()\n",
    "    \n",
    "# Actividad 2: Animación de equivalencias\n",
    "from matplotlib.animation import FuncAnimation\n",
    "\n",
    "def animar_equivalencia():\n",
    "    fig, ax = plt.subplots()\n",
    "    x = np.linspace(0, 1, 50))\n",
    "    line, = ax.plot(x, np.zeros_like(x))\n",
    "\n",
    "    def update(frame):\n",
    "        y = np.sin(2*np.pi*(x + frame/10)) * np.exp(-frame/20)\n",
    "        line.set_ydata(y)\n",
    "        return line,\n",
    "\n",
    "    ani = FuncAnimation(fig, update, frames=100, interval=50)\n",
    "    display(HTML(ani.to_jshtml()))\n",
    "```\n",
    "\n",
    "### 7. Canción Educativa\n",
    "```python\n",
    "cancion = \"\"\"\n",
    "**Ritmo Fraccionario** (Melodía: \"Twinkle Twinkle Little Star\")\n",
    "\n",
    "Medio peso, veinticinco,  \n",
    "Cincuenta centavos son,  \n",
    "Con monedas históricas  \n",
    "Aprendemos la razón.  \n",
    "\n",
    "Un cuarto es veinticinco,  \n",
    "Medio peso cincuenta es,  \n",
    "¡Fracciones monetarias  \n",
    "Nos ayudan a aprender!\n",
    "\"\"\"\n",
    "```\n",
    "\n",
    "### 8. Tareas\n",
    "```python\n",
    "tareas = [\n",
    "    \"1. Diseñar un sistema monetario con 3 nuevas fracciones usando SymPy\",\n",
    "    \"2. Crear un gráfico interactivo con Plotly que muestre ≥10 equivalencias\",\n",
    "    \"3. Resolver 5 problemas de combinaciones monetarias usando Pandas\"\n",
    "]\n",
    "```\n",
    "\n",
    "### 9. Evaluación\n",
    "```python\n",
    "evaluacion = {\n",
    "    \"Proyectos\": [\n",
    "        \"Simulador histórico de sistemas monetarios\",\n",
    "        \"Calculadora de equivalencias con GUI\",\n",
    "        \"Análisis estadístico de precios históricos\"\n",
    "    ],\n",
    "    \"Quiz Ejemplo\": \"Si 3 monedas de x centavos equivalen a 2/5 de peso, ¿cuál es x?\",\n",
    "    \"Parcial\": r\"\"\"\n",
    "    Resolver:\n",
    "    $\\frac{2}{3} + \\frac{5}{4} = ?$  \n",
    "    Crear una animación que muestre la suma fraccionaria\n",
    "    \"\"\"\n",
    "}\n",
    "```\n",
    "\n",
    "### 10. Retroalimentación\n",
    "```python\n",
    "def retroalimentacion_interactiva():\n",
    "    feedback = widgets.Textarea(\n",
    "        value='Escribe aquí tus dudas...',\n",
    "        description='Feedback:',\n",
    "        disabled=False\n",
    "    )\n",
    "    display(feedback)\n",
    "```\n",
    "\n",
    "### 11. Vocabulario Inglés\n",
    "```python\n",
    "vocabulario = {\n",
    "    \"Fracción\": \"Fraction\",\n",
    "    \"Equivalencia\": \"Equivalence\",\n",
    "    \"Razón\": \"Ratio\",\n",
    "    \"Centavos\": \"Cents\",\n",
    "    \"Operaciones Aditivas\": \"Additive Operations\",\n",
    "    \"Expresiones Algebraicas\": \"Algebraic Expressions\",\n",
    "    \"Sistema Monetario\": \"Monetary System\"\n",
    "}\n",
    "```\n",
    "\n",
    "### Instrucciones de Implementación:\n",
    "1. Ejecutar en Jupyter Notebook con:  \n",
    "   ```python\n",
    "   %matplotlib widget\n",
    "   import ipywidgets as widgets\n",
    "   from IPython.display import display\n",
    "   ```\n",
    "2. Usar `display()` para visualizar widgets\n",
    "3. Para animaciones:  \n",
    "   ```python\n",
    "   from IPython.display import HTML\n",
    "   HTML(ani.to_html5_video())\n",
    "   ```\n",
    "\n",
    "Este diseño integra:  \n",
    "- **Aula Invertida:** Los estudiantes exploran previamente sistemas monetarios  \n",
    "- **STEAMS:** Combina matemáticas, tecnología, historia y arte  \n",
    "- **ABPP:** Proyectos prácticos con aplicaciones reales  \n",
    "- **Interactividad:** Widgets y visualizaciones dinámicas para aprendizaje activo"
   ]
  },
  {
   "cell_type": "markdown",
   "id": "fb9402bb",
   "metadata": {
    "slideshow": {
     "slide_type": "slide"
    }
   },
   "source": [
    "## Estrategias propuestas para la solución de las dificultades de aprendizaje detectadas"
   ]
  },
  {
   "cell_type": "markdown",
   "id": "2dd3bd5c",
   "metadata": {
    "slideshow": {
     "slide_type": "slide"
    }
   },
   "source": []
  },
  {
   "cell_type": "markdown",
   "id": "c6236d5d",
   "metadata": {},
   "source": [
    "# FODA del grupo y del profesor  \n",
    "\n",
    "* F: Fortalezas\n",
    "* O: Oportunidades\n",
    "* D: Dificultades\n",
    "* A: Amenazas."
   ]
  },
  {
   "cell_type": "markdown",
   "id": "b48f9542",
   "metadata": {},
   "source": [
    "## ¿Cómo se sintió en este espacio de enseñanza y aprendizaje?\n",
    "\n",
    "!Dios te bendiga¡"
   ]
  },
  {
   "cell_type": "markdown",
   "id": "10bce0d0",
   "metadata": {
    "slideshow": {
     "slide_type": "slide"
    }
   },
   "source": [
    "## Referentes "
   ]
  },
  {
   "cell_type": "markdown",
   "id": "d204c917",
   "metadata": {},
   "source": [
    "* [Grajales Vanegas, L. M., Restrepo Estrada, C. E., Restrepo Ochoa, S. I., & Ruíz De Villalba, F. (2015). Matemáticas I para las ciencias económicas.](https://github.com/marco-canas/fundamentos_de_la_aritmetica/blob/main/referentes/2_grajales_logica/grajales_lina_matemticas.pdf)\n",
    "  \n",
    "* Duval, R. (2004). Semiosis y pensamiento humano: registros semióticos y aprendizajes intelectuales. Universidad del Valle.\n",
    "\n",
    "* [Aylwin, C. U. (2011). Lógica, conjuntos y números. Universidad de los Andes, Consejo de Publicaciones, Colección: Ciencias Básicas, Serie: Matemáticas.](https://github.com/marco-canas/fundamentos_logica/blob/main/referentes/2_uzcategui/uscategui.pdf)\n",
    "  \n",
    "* [Chollet, F. (2021). Deep learning with Python. Simon and Schuster.](https://github.com/marco-canas/didactica_ciencia_datos/blob/main/2_referentes/chollet/Fran%C3%A7ois%20Chollet%20-%20Deep%20Learning%20with%20Python-Manning%20(2018).pdf)  \n",
    "  \n",
    "* [Watson, S., Stewart, J., & Redlin, L. (2009). Precálculo. Matemáticas para el cálculo.](https://github.com/marco-canas/calculo/blob/main/referents/1_precalculo_stewart/stewart_precalculo.pdf)  \n",
    "\n",
    "* [Purcell, E. J., Varberg, D., & Rigdon, S. E. (2007). Cálculo diferencial e integral. Pearson Educación.](https://github.com/marco-canas/calculo/blob/main/referents/purcell/purcell_calculo.pdf)\n",
    "\n",
    "  \n",
    "\n",
    "* [stewart cálculo](https://udeaeduco-my.sharepoint.com/:b:/g/personal/marco_canas_udea_edu_co/EZgXZjAp8QxPqOAim2hs6LcBNPLGjSHf-xwYnUVYkwa04w?e=RZdTCy)  \n",
    "\n",
    "* [larson](https://udeaeduco-my.sharepoint.com/:b:/g/personal/marco_canas_udea_edu_co/ES71ChFeO9ZDhW3TwC5Ijk8BjxUK3Pdqz_fjHxTTFAfIAg?e=VDEjfu)\n",
    "\n",
    "\n",
    "\n",
    "* [Recomendación de la UNESCO sobre ciencia abierta](https://unesdoc.unesco.org/ark:/48223/pf0000379949_spa)\n",
    "\n",
    "* [chatGPT](https://openai.com/blog/chatgpt)  \n",
    "\n",
    "* [Géron, A. (2017). Hands-on machine learning with scikit-learn and tensorflow: Concepts. Tools, and Techniques to build intelligent systems.](chrome-extension://efaidnbmnnnibpcajpcglclefindmkaj/http://14.139.161.31/OddSem-0822-1122/Hands-On_Machine_Learning_with_Scikit-Learn-Keras-and-TensorFlow-2nd-Edition-Aurelien-Geron.pdf)   \n"
   ]
  },
  {
   "cell_type": "markdown",
   "id": "6b9e56a8",
   "metadata": {
    "slideshow": {
     "slide_type": "slide"
    }
   },
   "source": [
    "### [Evaluamos al profesor Marco Cañas Aquí](https://forms.office.com/Pages/ResponsePage.aspx?id=IefhmYRxjkmK_7KtTlPBwkanXIs1i1FEujpsZgO6dXpUREJPV1kxUk1JV1ozTFJIQVNIQjY5WEY3US4u)"
   ]
  },
  {
   "cell_type": "markdown",
   "id": "071afa04",
   "metadata": {
    "slideshow": {
     "slide_type": "slide"
    }
   },
   "source": [
    "## [Evaluación luego de alcanzar estos objetivos de aprendizaje]()"
   ]
  },
  {
   "cell_type": "markdown",
   "id": "10f43536",
   "metadata": {
    "slideshow": {
     "slide_type": "slide"
    }
   },
   "source": [
    "### Continue su aprendizaje en la siguiente clase a través del siguiente [vínculo]()"
   ]
  },
  {
   "cell_type": "markdown",
   "id": "af751e30",
   "metadata": {
    "slideshow": {
     "slide_type": "slide"
    }
   },
   "source": [
    "# Conjeturas pedagógicas fruto de la aplicación del modelo de aprendizaje invertido y del enfoque hacia la ciencia de datos con python\n",
    "\n",
    "1. Todo cálculo o resultado debe ser interpretado en una línea markdown del cuaderno Jupyter, inmediatamente después de la enunciación del resultado y después de la presentación de una tabla o gráfico bidimensional, de tal menera que el estudiante explicite la comprensión verbal del resultado y las inferencias o estrategias que este resultado le sugieren.   "
   ]
  }
 ],
 "metadata": {
  "celltoolbar": "Slideshow",
  "kernelspec": {
   "display_name": ".venv",
   "language": "python",
   "name": "python3"
  },
  "language_info": {
   "codemirror_mode": {
    "name": "ipython",
    "version": 3
   },
   "file_extension": ".py",
   "mimetype": "text/x-python",
   "name": "python",
   "nbconvert_exporter": "python",
   "pygments_lexer": "ipython3",
   "version": "3.13.2"
  },
  "rise": {
   "enable_chalkboard": true,
   "theme": "sky",
   "transition": "zoom"
  }
 },
 "nbformat": 4,
 "nbformat_minor": 5
}
