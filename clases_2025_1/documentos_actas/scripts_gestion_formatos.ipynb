{
 "cells": [
  {
   "cell_type": "markdown",
   "metadata": {},
   "source": [
    "# Scripts para gestión de formatos para orientar Práctica V  \n",
    "\n"
   ]
  },
  {
   "cell_type": "markdown",
   "metadata": {},
   "source": [
    "## promp para convertir el archivo .docx en .md   \n",
    "\n",
    "Dame una función de usuario de python que tranforme un archivo .docx en un archivo .md. dado como parámetro al archivo_path  y que guarde el archivo .md en la misma carpeta donde está el archivo .docx  \n",
    "\n",
    "\n",
    "\n"
   ]
  },
  {
   "cell_type": "markdown",
   "metadata": {
    "vscode": {
     "languageId": "plaintext"
    }
   },
   "source": [
    "Aquí tienes una función en Python que convierte un archivo `.docx` en un archivo `.md` usando la biblioteca `python-docx` para leer el archivo de Word y `markdownify` para convertir el contenido a Markdown. Asegúrate de instalar las dependencias antes de ejecutar el código:  \n",
    "\n",
    "```bash\n",
    "pip install python-docx markdownify\n",
    "```  \n",
    "\n",
    "Código de la función:  \n"
   ]
  },
  {
   "cell_type": "code",
   "execution_count": 1,
   "metadata": {},
   "outputs": [],
   "source": [
    "import os\n",
    "import docx\n",
    "from markdownify import markdownify\n",
    "\n",
    "def docx_to_md(file_path):\n",
    "    # Verificar que el archivo sea .docx\n",
    "    if not file_path.lower().endswith('.docx'):\n",
    "        raise ValueError(\"El archivo debe tener la extensión .docx\")\n",
    "\n",
    "    # Leer el documento de Word\n",
    "    doc = docx.Document(file_path)\n",
    "    md_content = \"\"\n",
    "\n",
    "    for para in doc.paragraphs:\n",
    "        md_content += markdownify(para.text) + \"\\n\\n\"\n",
    "\n",
    "    # Obtener la ruta de la carpeta y el nombre base del archivo\n",
    "    folder_path = os.path.dirname(file_path)\n",
    "    file_name = os.path.splitext(os.path.basename(file_path))[0]\n",
    "    md_file_path = os.path.join(folder_path, f\"{file_name}.md\")\n",
    "\n",
    "    # Guardar el contenido en un archivo Markdown\n",
    "    with open(md_file_path, \"w\", encoding=\"utf-8\") as md_file:\n",
    "        md_file.write(md_content)\n",
    "\n",
    "    print(f\"Archivo guardado en: {md_file_path}\")\n",
    "    return md_file_path\n"
   ]
  },
  {
   "cell_type": "markdown",
   "metadata": {},
   "source": [
    "\n",
    "### Uso:\n"
   ]
  },
  {
   "cell_type": "code",
   "execution_count": 3,
   "metadata": {},
   "outputs": [
    {
     "name": "stdout",
     "output_type": "stream",
     "text": [
      "Archivo guardado en: C:\\Users\\marco\\Documentos\\docencia\\practica_v_dllo_pto_math_infancia\\clases_2025_1\\documentos_actas\\programa_practica_v_2025_1.md\n"
     ]
    },
    {
     "data": {
      "text/plain": [
       "'C:\\\\Users\\\\marco\\\\Documentos\\\\docencia\\\\practica_v_dllo_pto_math_infancia\\\\clases_2025_1\\\\documentos_actas\\\\programa_practica_v_2025_1.md'"
      ]
     },
     "execution_count": 3,
     "metadata": {},
     "output_type": "execute_result"
    }
   ],
   "source": [
    "\n",
    "docx_to_md(r\"C:\\Users\\marco\\Documentos\\docencia\\practica_v_dllo_pto_math_infancia\\clases_2025_1\\documentos_actas\\programa_practica_v_2025_1.docx\")\n",
    "\n"
   ]
  },
  {
   "cell_type": "markdown",
   "metadata": {},
   "source": [
    "Esta función:  \n",
    "- Verifica que el archivo tenga la extensión `.docx`.  \n",
    "- Lee el contenido del archivo de Word y lo convierte a Markdown.  \n",
    "- Guarda el archivo `.md` en la misma carpeta del archivo original.  \n",
    "\n",
    "Si necesitas incluir imágenes, tablas o estilos avanzados, se pueden agregar más detalles a la conversión."
   ]
  },
  {
   "cell_type": "code",
   "execution_count": null,
   "metadata": {},
   "outputs": [],
   "source": []
  },
  {
   "cell_type": "code",
   "execution_count": null,
   "metadata": {},
   "outputs": [],
   "source": []
  }
 ],
 "metadata": {
  "kernelspec": {
   "display_name": ".venv",
   "language": "python",
   "name": "python3"
  },
  "language_info": {
   "codemirror_mode": {
    "name": "ipython",
    "version": 3
   },
   "file_extension": ".py",
   "mimetype": "text/x-python",
   "name": "python",
   "nbconvert_exporter": "python",
   "pygments_lexer": "ipython3",
   "version": "3.13.2"
  }
 },
 "nbformat": 4,
 "nbformat_minor": 2
}
